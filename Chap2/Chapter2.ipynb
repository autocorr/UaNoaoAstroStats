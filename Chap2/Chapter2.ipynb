{
 "metadata": {
  "name": "",
  "signature": "sha256:a45dae8ab862bad09a4c3f6aad14203fe1281c85e4f60836f11c09f94501069b"
 },
 "nbformat": 3,
 "nbformat_minor": 0,
 "worksheets": [
  {
   "cells": [
    {
     "cell_type": "heading",
     "level": 1,
     "metadata": {},
     "source": [
      "Chapter 2: Fast Computation on Massive Data Sets"
     ]
    },
    {
     "cell_type": "heading",
     "level": 3,
     "metadata": {},
     "source": [
      "Analysis of Algorithmic Efficiency"
     ]
    },
    {
     "cell_type": "markdown",
     "metadata": {},
     "source": [
      "\"big O\" notation, $\\mathcal{O}(N)$\n",
      "* considers only the order of growth, ignoring constant factors\n",
      "* more naive algorithms tend to be $\\mathcal{O}(N^2)$ or more"
     ]
    },
    {
     "cell_type": "code",
     "collapsed": false,
     "input": [
      "from IPython.display import Image\n",
      "from IPython.display import display\n",
      "\n",
      "search_efficiency = Image(url='http://www.astroml.org/_images/fig_search_scaling_1.png',width=500)\n",
      "\n",
      "display(search_efficiency)"
     ],
     "language": "python",
     "metadata": {},
     "outputs": [
      {
       "html": [
        "<img src=\"http://www.astroml.org/_images/fig_search_scaling_1.png\" width=\"500\"/>"
       ],
       "metadata": {},
       "output_type": "display_data",
       "text": [
        "<IPython.core.display.Image at 0x1069e8e90>"
       ]
      }
     ],
     "prompt_number": 19
    },
    {
     "cell_type": "heading",
     "level": 3,
     "metadata": {},
     "source": [
      "Seven Types of Computational Problem"
     ]
    },
    {
     "cell_type": "markdown",
     "metadata": {},
     "source": [
      "* Basic Problems\n",
      "* Generalized N-body problems\n",
      "* Linear algebraic problems\n",
      "* Optimization problems\n",
      "* Integration problems\n",
      "* Graph-theoretic problems\n",
      "* Alignment problems"
     ]
    },
    {
     "cell_type": "heading",
     "level": 3,
     "metadata": {},
     "source": [
      "Seven Strategies for Speeding Things Up"
     ]
    },
    {
     "cell_type": "code",
     "collapsed": false,
     "input": [],
     "language": "python",
     "metadata": {},
     "outputs": []
    },
    {
     "cell_type": "heading",
     "level": 3,
     "metadata": {},
     "source": [
      "Sorting"
     ]
    },
    {
     "cell_type": "code",
     "collapsed": false,
     "input": [
      "import numpy as np"
     ],
     "language": "python",
     "metadata": {},
     "outputs": [],
     "prompt_number": 4
    },
    {
     "cell_type": "code",
     "collapsed": false,
     "input": [
      "np.random.seed(0)"
     ],
     "language": "python",
     "metadata": {},
     "outputs": [],
     "prompt_number": 5
    },
    {
     "cell_type": "code",
     "collapsed": false,
     "input": [
      "x = np.random.rand(1E7)"
     ],
     "language": "python",
     "metadata": {},
     "outputs": [],
     "prompt_number": 6
    },
    {
     "cell_type": "code",
     "collapsed": false,
     "input": [
      "%time x.sort()  # time a single run"
     ],
     "language": "python",
     "metadata": {},
     "outputs": [
      {
       "output_type": "stream",
       "stream": "stdout",
       "text": [
        "CPU times: user 1.04 s, sys: 1.12 ms, total: 1.04 s\n",
        "Wall time: 1.05 s\n"
       ]
      }
     ],
     "prompt_number": 7
    },
    {
     "cell_type": "code",
     "collapsed": false,
     "input": [
      "print x"
     ],
     "language": "python",
     "metadata": {},
     "outputs": [
      {
       "output_type": "stream",
       "stream": "stdout",
       "text": [
        "[  2.51678389e-08   1.63714365e-07   1.89048978e-07 ...,   9.99999814e-01\n",
        "   9.99999837e-01   9.99999863e-01]\n"
       ]
      }
     ],
     "prompt_number": 8
    },
    {
     "cell_type": "code",
     "collapsed": false,
     "input": [
      "np.searchsorted(x, 0.5)"
     ],
     "language": "python",
     "metadata": {},
     "outputs": [
      {
       "metadata": {},
       "output_type": "pyout",
       "prompt_number": 9,
       "text": [
        "4998210"
       ]
      }
     ],
     "prompt_number": 9
    },
    {
     "cell_type": "code",
     "collapsed": false,
     "input": [
      "%timeit np.searchsorted(x, 0.3)"
     ],
     "language": "python",
     "metadata": {},
     "outputs": [
      {
       "output_type": "stream",
       "stream": "stdout",
       "text": [
        "100000 loops, best of 3: 2.45 \u00b5s per loop\n"
       ]
      }
     ],
     "prompt_number": 10
    },
    {
     "cell_type": "code",
     "collapsed": false,
     "input": [
      "X = np.random.random((5,3))"
     ],
     "language": "python",
     "metadata": {},
     "outputs": [],
     "prompt_number": 11
    },
    {
     "cell_type": "code",
     "collapsed": false,
     "input": [
      "np.set_printoptions(precision=2)"
     ],
     "language": "python",
     "metadata": {},
     "outputs": [],
     "prompt_number": 12
    },
    {
     "cell_type": "code",
     "collapsed": false,
     "input": [
      "print X"
     ],
     "language": "python",
     "metadata": {},
     "outputs": [
      {
       "output_type": "stream",
       "stream": "stdout",
       "text": [
        "[[ 0.96  0.92  1.  ]\n",
        " [ 0.71  0.22  0.63]\n",
        " [ 0.34  0.82  0.97]\n",
        " [ 0.33  0.98  0.44]\n",
        " [ 0.95  0.33  0.73]]\n"
       ]
      }
     ],
     "prompt_number": 13
    },
    {
     "cell_type": "code",
     "collapsed": false,
     "input": [
      "i_sort = np.argsort(X[:, 0]) # sort by the first column"
     ],
     "language": "python",
     "metadata": {},
     "outputs": [],
     "prompt_number": 14
    },
    {
     "cell_type": "code",
     "collapsed": false,
     "input": [
      "print X[i_sort]"
     ],
     "language": "python",
     "metadata": {},
     "outputs": [
      {
       "output_type": "stream",
       "stream": "stdout",
       "text": [
        "[[ 0.33  0.98  0.44]\n",
        " [ 0.34  0.82  0.97]\n",
        " [ 0.71  0.22  0.63]\n",
        " [ 0.95  0.33  0.73]\n",
        " [ 0.96  0.92  1.  ]]\n"
       ]
      }
     ],
     "prompt_number": 15
    },
    {
     "cell_type": "code",
     "collapsed": false,
     "input": [
      "X.sort(0) # sort every column"
     ],
     "language": "python",
     "metadata": {},
     "outputs": [],
     "prompt_number": 16
    },
    {
     "cell_type": "code",
     "collapsed": false,
     "input": [
      "print X"
     ],
     "language": "python",
     "metadata": {},
     "outputs": [
      {
       "output_type": "stream",
       "stream": "stdout",
       "text": [
        "[[ 0.33  0.22  0.44]\n",
        " [ 0.34  0.33  0.63]\n",
        " [ 0.71  0.82  0.73]\n",
        " [ 0.95  0.92  0.97]\n",
        " [ 0.96  0.98  1.  ]]\n"
       ]
      }
     ],
     "prompt_number": 17
    },
    {
     "cell_type": "markdown",
     "metadata": {},
     "source": []
    },
    {
     "cell_type": "markdown",
     "metadata": {},
     "source": [
      "---\n",
      "\n",
      "#Multi-dimensional Sorting/Searching: Trees\n",
      "\n",
      "##The problem: doing things more complicated than a simple search is time consuming if done naievely.\n",
      "\n",
      "As an example, consider a nearest neighbor search among a series of particles. \n",
      "\n",
      "* $N$X$D$ array, representing N points in D dimensions (spatial, momenta, parameters, etc.)\n",
      "* A point $X_i$, where $i \\in [1, 2, \\cdots, N]$ has coordinates $x_j$ where $j \\in [1, 2, \\cdots, D]$.\n",
      "* Given a query point X, we want to find the $X_i$ that has coordinates closest to X.\n",
      "* Closeness is defined as $\\chi(X,X_i) = \\sqrt{\\Sigma_{d=1}^D (x_d - x_{i,d})^2}$\n",
      "\n",
      "Easy! Just loop!\n"
     ]
    },
    {
     "cell_type": "code",
     "collapsed": false,
     "input": [
      "import numpy as np"
     ],
     "language": "python",
     "metadata": {},
     "outputs": [],
     "prompt_number": 5
    },
    {
     "cell_type": "code",
     "collapsed": false,
     "input": [
      "# file: easy_nearest_neighbor.py import numpy as np\n",
      "def easy_nn(X):\n",
      "    N, D = X.shape\n",
      "    neighbors = np.zeros(N, dtype=int) \n",
      "    for i in range(N):\n",
      "        # initialize closest distance to infinity\n",
      "        j_closest = i \n",
      "        d_closest = np.inf \n",
      "        for j in range(N):\n",
      "            # skip distance between a point and itself\n",
      "            if i == j: \n",
      "                continue\n",
      "            d = np.sqrt(np.sum((X[i] - X[j]) ** 2)) \n",
      "            if d < d_closest:\n",
      "                j_closest = j\n",
      "                d_closest = d \n",
      "        neighbors[i] = j_closest\n",
      "    return neighbors"
     ],
     "language": "python",
     "metadata": {},
     "outputs": [],
     "prompt_number": 6
    },
    {
     "cell_type": "code",
     "collapsed": false,
     "input": [
      "np.random.seed(0)"
     ],
     "language": "python",
     "metadata": {},
     "outputs": [],
     "prompt_number": 7
    },
    {
     "cell_type": "code",
     "collapsed": false,
     "input": [
      "%timeit X = np.random.random((10, 3))"
     ],
     "language": "python",
     "metadata": {},
     "outputs": [
      {
       "output_type": "stream",
       "stream": "stdout",
       "text": [
        "1000000 loops, best of 3: 1.27 \u00b5s per loop\n"
       ]
      }
     ],
     "prompt_number": 11
    },
    {
     "cell_type": "markdown",
     "metadata": {},
     "source": [
      "The result takes 1.27 $\\mu$s per loop. That's not bad.\n",
      "\n",
      "By the way, \\%timeit is an ipython *magic* function. There are several. Useful ones include \\%run,  \\%paste, and \\%cpaste, which will preserve indenting, which is important in python."
     ]
    },
    {
     "cell_type": "code",
     "collapsed": false,
     "input": [
      "X"
     ],
     "language": "python",
     "metadata": {},
     "outputs": [
      {
       "metadata": {},
       "output_type": "pyout",
       "prompt_number": 12,
       "text": [
        "array([[ 0.5488135 ,  0.71518937,  0.60276338],\n",
        "       [ 0.54488318,  0.4236548 ,  0.64589411],\n",
        "       [ 0.43758721,  0.891773  ,  0.96366276],\n",
        "       [ 0.38344152,  0.79172504,  0.52889492],\n",
        "       [ 0.56804456,  0.92559664,  0.07103606],\n",
        "       [ 0.0871293 ,  0.0202184 ,  0.83261985],\n",
        "       [ 0.77815675,  0.87001215,  0.97861834],\n",
        "       [ 0.79915856,  0.46147936,  0.78052918],\n",
        "       [ 0.11827443,  0.63992102,  0.14335329],\n",
        "       [ 0.94466892,  0.52184832,  0.41466194]])"
       ]
      }
     ],
     "prompt_number": 12
    },
    {
     "cell_type": "code",
     "collapsed": false,
     "input": [
      "easy_nn(X)"
     ],
     "language": "python",
     "metadata": {},
     "outputs": [
      {
       "metadata": {},
       "output_type": "pyout",
       "prompt_number": 10,
       "text": [
        "array([3, 7, 6, 0, 3, 1, 2, 1, 3, 7])"
       ]
      }
     ],
     "prompt_number": 10
    },
    {
     "cell_type": "code",
     "collapsed": false,
     "input": [
      "X = np.random.random((1000, 3))"
     ],
     "language": "python",
     "metadata": {},
     "outputs": [],
     "prompt_number": 13
    },
    {
     "cell_type": "code",
     "collapsed": false,
     "input": [
      "%timeit easy_nn(X)"
     ],
     "language": "python",
     "metadata": {},
     "outputs": [
      {
       "output_type": "stream",
       "stream": "stdout",
       "text": [
        "1 loops, best of 3: 15.5 s per loop\n"
       ]
      }
     ],
     "prompt_number": 15
    },
    {
     "cell_type": "markdown",
     "metadata": {},
     "source": [
      "Oops. Going from 10 to 1000 results in an increase on the order of $\\mathcal{O}(N^2)$ ($15.5/1.27e-6 \\approx 12e6$). This is clearly not sustainable.\n",
      "\n",
      "##The solution: don't be naive.\n",
      "\n",
      "Numpy can do better using vectorized notations due to smart implmentation of arrays. I'm going to skip this in favor of trees though. You can see the discussion on pp 55-57.\n",
      "\n",
      "One programming habit I've taken from MATLAB: the programmer should be ashamed of every for loop (s)he uses. Make liberal use of the reshape and tile methods, as well as broadcasting. \n",
      "\n",
      "http://docs.scipy.org/doc/numpy/user/basics.broadcasting.html\n",
      "\n",
      "###Instead, lets try trees. Here's an octtree example taken from the book.\n",
      "\n",
      "Trees essentially work by bisecting the parameter space in each dimension. \n",
      "\n",
      "* **Quad Trees**: Work in 2 dimensions. Each dimension is divided in half, yielding four quadrants.\n",
      "* **Oct Trees**: Work in 3 dimesions. Each dimension is bisected, yielding octants.\n",
      "* **kd Trees**: Slightly more advanced, but works in k dimensions."
     ]
    },
    {
     "cell_type": "code",
     "collapsed": false,
     "input": [
      "%matplotlib inline"
     ],
     "language": "python",
     "metadata": {},
     "outputs": [],
     "prompt_number": 35
    },
    {
     "cell_type": "code",
     "collapsed": false,
     "input": [
      "from astroML.plotting import setup_text_plots"
     ],
     "language": "python",
     "metadata": {},
     "outputs": [],
     "prompt_number": 36
    },
    {
     "cell_type": "code",
     "collapsed": false,
     "input": [
      "setup_text_plots(fontsize=8, usetex=True)"
     ],
     "language": "python",
     "metadata": {},
     "outputs": [],
     "prompt_number": 37
    },
    {
     "cell_type": "code",
     "collapsed": false,
     "input": [
      "# We'll create a QuadTree class which will recursively subdivide the\n",
      "# space into quadrants\n",
      "class QuadTree:\n",
      "    \"\"\"Simple Quad-tree class\"\"\"\n",
      "\n",
      "    # class initialization function\n",
      "    def __init__(self, data, mins, maxs, depth=3):\n",
      "        self.data = np.asarray(data)\n",
      "\n",
      "        # data should be two-dimensional\n",
      "        assert self.data.shape[1] == 2\n",
      "\n",
      "        if mins is None:\n",
      "            mins = data.min(0)\n",
      "        if maxs is None:\n",
      "            maxs = data.max(0)\n",
      "\n",
      "        self.mins = np.asarray(mins)\n",
      "        self.maxs = np.asarray(maxs)\n",
      "        self.sizes = self.maxs - self.mins\n",
      "\n",
      "        self.children = []\n",
      "\n",
      "        mids = 0.5 * (self.mins + self.maxs)\n",
      "        xmin, ymin = self.mins\n",
      "        xmax, ymax = self.maxs\n",
      "        xmid, ymid = mids\n",
      "\n",
      "        if depth > 0:\n",
      "            # split the data into four quadrants\n",
      "            data_q1 = data[(data[:, 0] < mids[0])\n",
      "                           & (data[:, 1] < mids[1])]\n",
      "            data_q2 = data[(data[:, 0] < mids[0])\n",
      "                           & (data[:, 1] >= mids[1])]\n",
      "            data_q3 = data[(data[:, 0] >= mids[0])\n",
      "                           & (data[:, 1] < mids[1])]\n",
      "            data_q4 = data[(data[:, 0] >= mids[0])\n",
      "                           & (data[:, 1] >= mids[1])]\n",
      "\n",
      "            # recursively build a quad tree on each quadrant which has data\n",
      "            if data_q1.shape[0] > 0:\n",
      "                self.children.append(QuadTree(data_q1,\n",
      "                                              [xmin, ymin], [xmid, ymid],\n",
      "                                              depth - 1))\n",
      "            if data_q2.shape[0] > 0:\n",
      "                self.children.append(QuadTree(data_q2,\n",
      "                                              [xmin, ymid], [xmid, ymax],\n",
      "                                              depth - 1))\n",
      "            if data_q3.shape[0] > 0:\n",
      "                self.children.append(QuadTree(data_q3,\n",
      "                                              [xmid, ymin], [xmax, ymid],\n",
      "                                              depth - 1))\n",
      "            if data_q4.shape[0] > 0:\n",
      "                self.children.append(QuadTree(data_q4,\n",
      "                                              [xmid, ymid], [xmax, ymax],\n",
      "                                              depth - 1))\n",
      "\n",
      "    def draw_rectangle(self, ax, depth):\n",
      "        \"\"\"Recursively plot a visualization of the quad tree region\"\"\"\n",
      "        if depth is None or depth == 0:\n",
      "            rect = plt.Rectangle(self.mins, *self.sizes, zorder=2,\n",
      "                                 ec='#000000', fc='none')\n",
      "            ax.add_patch(rect)\n",
      "        if depth is None or depth > 0:\n",
      "            for child in self.children:\n",
      "                child.draw_rectangle(ax, depth - 1)"
     ],
     "language": "python",
     "metadata": {},
     "outputs": [],
     "prompt_number": 38
    },
    {
     "cell_type": "code",
     "collapsed": false,
     "input": [
      "def draw_grid(ax, xlim, ylim, Nx, Ny, **kwargs):\n",
      "    \"\"\" draw a background grid for the quad tree\"\"\"\n",
      "    for x in np.linspace(xlim[0], xlim[1], Nx):\n",
      "        ax.plot([x, x], ylim, **kwargs)\n",
      "    for y in np.linspace(ylim[0], ylim[1], Ny):\n",
      "        ax.plot(xlim, [y, y], **kwargs)\n"
     ],
     "language": "python",
     "metadata": {},
     "outputs": [],
     "prompt_number": 39
    },
    {
     "cell_type": "code",
     "collapsed": false,
     "input": [
      "#------------------------------------------------------------\n",
      "# Create a set of structured random points in two dimensions\n",
      "np.random.seed(0)\n",
      "\n",
      "X = np.random.random((30, 2)) * 2 - 1\n",
      "X[:, 1] *= 0.1\n",
      "X[:, 1] += X[:, 0] ** 2"
     ],
     "language": "python",
     "metadata": {},
     "outputs": [],
     "prompt_number": 40
    },
    {
     "cell_type": "code",
     "collapsed": false,
     "input": [
      "#------------------------------------------------------------\n",
      "# Use our Quad Tree class to recursively divide the space\n",
      "mins = (-1.1, -0.1)\n",
      "maxs = (1.1, 1.1)\n",
      "QT = QuadTree(X, mins, maxs, depth=3)"
     ],
     "language": "python",
     "metadata": {},
     "outputs": [],
     "prompt_number": 41
    },
    {
     "cell_type": "code",
     "collapsed": false,
     "input": [
      "#------------------------------------------------------------\n",
      "# Plot four different levels of the quad tree\n",
      "fig = plt.figure(figsize=(5, 5))\n",
      "fig.subplots_adjust(wspace=0.1, hspace=0.15,\n",
      "                    left=0.1, right=0.9,\n",
      "                    bottom=0.05, top=0.9)\n",
      "\n",
      "for level in range(1, 5):\n",
      "    ax = fig.add_subplot(2, 2, level, xticks=[], yticks=[])\n",
      "    ax.scatter(X[:, 0], X[:, 1])\n",
      "    QT.draw_rectangle(ax, depth=level - 1)\n",
      "\n",
      "    Nlines = 1 + 2 ** (level - 1)\n",
      "    draw_grid(ax, (mins[0], maxs[0]), (mins[1], maxs[1]),\n",
      "              Nlines, Nlines, linewidth=1,\n",
      "              color='#CCCCCC', zorder=0)\n",
      "\n",
      "    ax.set_xlim(-1.2, 1.2)\n",
      "    ax.set_ylim(-0.15, 1.15)\n",
      "    ax.set_title('level %i' % level)\n",
      "\n",
      "# suptitle() adds a title to the entire figure\n",
      "fig.suptitle('Quad-tree Example')\n",
      "#plt.show()"
     ],
     "language": "python",
     "metadata": {},
     "outputs": [
      {
       "metadata": {},
       "output_type": "pyout",
       "prompt_number": 43,
       "text": [
        "<matplotlib.text.Text at 0x10cc43c10>"
       ]
      },
      {
       "metadata": {},
       "output_type": "display_data",
       "png": "[encoded data removed]",
       "text": [
        "<matplotlib.figure.Figure at 0x10cc43bd0>"
       ]
      }
     ],
     "prompt_number": 43
    },
    {
     "cell_type": "markdown",
     "metadata": {},
     "source": []
    },
    {
     "cell_type": "code",
     "collapsed": false,
     "input": [],
     "language": "python",
     "metadata": {},
     "outputs": []
    }
   ],
   "metadata": {}
  }
 ]
}