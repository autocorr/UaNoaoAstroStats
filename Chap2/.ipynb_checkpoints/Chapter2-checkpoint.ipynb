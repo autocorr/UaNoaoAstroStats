{
 "metadata": {
  "name": "",
  "signature": "sha256:a45dae8ab862bad09a4c3f6aad14203fe1281c85e4f60836f11c09f94501069b"
 },
 "nbformat": 3,
 "nbformat_minor": 0,
 "worksheets": [
  {
   "cells": [
    {
     "cell_type": "heading",
     "level": 1,
     "metadata": {},
     "source": [
      "Chapter 2: Fast Computation on Massive Data Sets"
     ]
    },
    {
     "cell_type": "heading",
     "level": 3,
     "metadata": {},
     "source": [
      "Analysis of Algorithmic Efficiency"
     ]
    },
    {
     "cell_type": "markdown",
     "metadata": {},
     "source": [
      "\"big O\" notation, $\\mathcal{O}(N)$\n",
      "* considers only the order of growth, ignoring constant factors\n",
      "* more naive algorithms tend to be $\\mathcal{O}(N^2)$ or more"
     ]
    },
    {
     "cell_type": "code",
     "collapsed": false,
     "input": [
      "from IPython.display import Image\n",
      "from IPython.display import display\n",
      "\n",
      "search_efficiency = Image(url='http://www.astroml.org/_images/fig_search_scaling_1.png',width=500)\n",
      "\n",
      "display(search_efficiency)"
     ],
     "language": "python",
     "metadata": {},
     "outputs": [
      {
       "html": [
        "<img src=\"http://www.astroml.org/_images/fig_search_scaling_1.png\" width=\"500\"/>"
       ],
       "metadata": {},
       "output_type": "display_data",
       "text": [
        "<IPython.core.display.Image at 0x1069e8e90>"
       ]
      }
     ],
     "prompt_number": 19
    },
    {
     "cell_type": "heading",
     "level": 4,
     "metadata": {},
     "source": [
      "Seven Types of Computational Problem"
     ]
    },
    {
     "cell_type": "markdown",
     "metadata": {},
     "source": [
      "* Basic Problems: statistics (means, variences, covarience matrices), 1D sorts and searches; typically $\\mathcal{O}(N)$ or $\\mathcal{O}(N \\mathrm{log} N)$\n",
      "* Generalized N-body problems: problems involving pairs, such as nearest-neighbor seraches, correlation functions, kernal density estimates; typically $\\mathcal{O}(N^2)$ or $\\mathcal{O}(N^3)$ if done naively\n",
      "* Linear algebraic problems: linear systems, eigenvalue problems, inverses; if $N >> D$, $\\mathcal{O}(N)$ but if matrix is $N \\times N$, $\\mathcal{O}(N^3)$\n",
      "* Optimization problems: min or max of a function; order varies depending on the problem\n",
      "* Integration problems: estimation of Bayesian models, typically involves high dimensional functions; order increases exponentially with the dimensionality; MCMC methods can improve efficiency\n",
      "* Graph-theoretic problems: traversals of graphs(?), such as manifold learning\n",
      "* Alignment problems: matchings between two or more data sets; worst case is exponential in $N$; tree-based strategies are helpful"
     ]
    },
    {
     "cell_type": "heading",
     "level": 4,
     "metadata": {},
     "source": [
      "Seven Strategies for Speeding Things Up"
     ]
    },
    {
     "cell_type": "markdown",
     "metadata": {},
     "source": [
      "* Trees: subdivide the space, then prove that some parts can be ignored or approximated during the computation\n",
      "* Subproblem reuse: store solutions and recall them if needed; memory can be a bottleneck\n",
      "* Locality: computationally, rearrange the problem so that work is localized in memory\n",
      "* Streaming: act on only one data point at a time, even for a calculation that theoretically requires access to the entire data set\n",
      "* Function transforms: use simpler functions to achieve the same result, i.e. Taylor series or Fourier transforms\n",
      "* Sampling: use a subset of points that effectively represent the whole data set\n",
      "* Parallelism: break up the problem into parts that can be computed simultaneously; important to have a fast serial version first\n",
      "* Problem transformation"
     ]
    },
    {
     "cell_type": "heading",
     "level": 3,
     "metadata": {},
     "source": [
      "Focusing on Trees: searching, sorting, and multidimensional neighbor searches"
     ]
    },
    {
     "cell_type": "heading",
     "level": 4,
     "metadata": {},
     "source": [
      "Searching"
     ]
    },
    {
     "cell_type": "markdown",
     "metadata": {},
     "source": [
      "unidimensional searches: also called \"range\" searches, specifying a single attribute, i.e. all objects smaller than x\n",
      "* efficient searching can be done using the numpy.searchsorted function (see figure above), $\\mathcal{O}(N \\mathrm{log} N)$\n",
      "\n",
      "hash tables: an array that maps input data to array indices using a hash function, i.e. sorting a data set into a pixelized grid\n",
      "* hashing can be done using numpy.histogram\n",
      "* can be order independent (constant in time), but may not be worth the cost of computing the hash function"
     ]
    },
    {
     "cell_type": "heading",
     "level": 4,
     "metadata": {},
     "source": [
      "Sorting"
     ]
    },
    {
     "cell_type": "code",
     "collapsed": false,
     "input": [
      "import numpy as np"
     ],
     "language": "python",
     "metadata": {},
     "outputs": [],
     "prompt_number": 4
    },
    {
     "cell_type": "code",
     "collapsed": false,
     "input": [
      "np.random.seed(0)"
     ],
     "language": "python",
     "metadata": {},
     "outputs": [],
     "prompt_number": 5
    },
    {
     "cell_type": "code",
     "collapsed": false,
     "input": [
      "x = np.random.rand(1E7)"
     ],
     "language": "python",
     "metadata": {},
     "outputs": [],
     "prompt_number": 6
    },
    {
     "cell_type": "code",
     "collapsed": false,
     "input": [
      "%time x.sort()  # time a single run"
     ],
     "language": "python",
     "metadata": {},
     "outputs": [
      {
       "output_type": "stream",
       "stream": "stdout",
       "text": [
        "CPU times: user 1.04 s, sys: 1.12 ms, total: 1.04 s\n",
        "Wall time: 1.05 s\n"
       ]
      }
     ],
     "prompt_number": 7
    },
    {
     "cell_type": "code",
     "collapsed": false,
     "input": [
      "print x"
     ],
     "language": "python",
     "metadata": {},
     "outputs": [
      {
       "output_type": "stream",
       "stream": "stdout",
       "text": [
        "[  2.51678389e-08   1.63714365e-07   1.89048978e-07 ...,   9.99999814e-01\n",
        "   9.99999837e-01   9.99999863e-01]\n"
       ]
      }
     ],
     "prompt_number": 8
    },
    {
     "cell_type": "code",
     "collapsed": false,
     "input": [
      "np.searchsorted(x, 0.5)"
     ],
     "language": "python",
     "metadata": {},
     "outputs": [
      {
       "metadata": {},
       "output_type": "pyout",
       "prompt_number": 9,
       "text": [
        "4998210"
       ]
      }
     ],
     "prompt_number": 9
    },
    {
     "cell_type": "code",
     "collapsed": false,
     "input": [
      "%timeit np.searchsorted(x, 0.3)"
     ],
     "language": "python",
     "metadata": {},
     "outputs": [
      {
       "output_type": "stream",
       "stream": "stdout",
       "text": [
        "100000 loops, best of 3: 2.45 \u00b5s per loop\n"
       ]
      }
     ],
     "prompt_number": 10
    },
    {
     "cell_type": "code",
     "collapsed": false,
     "input": [
      "X = np.random.random((5,3))"
     ],
     "language": "python",
     "metadata": {},
     "outputs": [],
     "prompt_number": 11
    },
    {
     "cell_type": "code",
     "collapsed": false,
     "input": [
      "np.set_printoptions(precision=2)"
     ],
     "language": "python",
     "metadata": {},
     "outputs": [],
     "prompt_number": 12
    },
    {
     "cell_type": "code",
     "collapsed": false,
     "input": [
      "print X"
     ],
     "language": "python",
     "metadata": {},
     "outputs": [
      {
       "output_type": "stream",
       "stream": "stdout",
       "text": [
        "[[ 0.96  0.92  1.  ]\n",
        " [ 0.71  0.22  0.63]\n",
        " [ 0.34  0.82  0.97]\n",
        " [ 0.33  0.98  0.44]\n",
        " [ 0.95  0.33  0.73]]\n"
       ]
      }
     ],
     "prompt_number": 13
    },
    {
     "cell_type": "code",
     "collapsed": false,
     "input": [
      "i_sort = np.argsort(X[:, 0]) # sort by the first column"
     ],
     "language": "python",
     "metadata": {},
     "outputs": [],
     "prompt_number": 14
    },
    {
     "cell_type": "code",
     "collapsed": false,
     "input": [
      "print X[i_sort]"
     ],
     "language": "python",
     "metadata": {},
     "outputs": [
      {
       "output_type": "stream",
       "stream": "stdout",
       "text": [
        "[[ 0.33  0.98  0.44]\n",
        " [ 0.34  0.82  0.97]\n",
        " [ 0.71  0.22  0.63]\n",
        " [ 0.95  0.33  0.73]\n",
        " [ 0.96  0.92  1.  ]]\n"
       ]
      }
     ],
     "prompt_number": 15
    },
    {
     "cell_type": "code",
     "collapsed": false,
     "input": [
      "X.sort(0) # sort every column"
     ],
     "language": "python",
     "metadata": {},
     "outputs": [
      {
       "ename": "NameError",
       "evalue": "name 'X' is not defined",
       "output_type": "pyerr",
       "traceback": [
        "\u001b[0;31m---------------------------------------------------------------------------\u001b[0m\n\u001b[0;31mNameError\u001b[0m                                 Traceback (most recent call last)",
        "\u001b[0;32m<ipython-input-1-d9027d569868>\u001b[0m in \u001b[0;36m<module>\u001b[0;34m()\u001b[0m\n\u001b[0;32m----> 1\u001b[0;31m \u001b[0mX\u001b[0m\u001b[0;34m.\u001b[0m\u001b[0msort\u001b[0m\u001b[0;34m(\u001b[0m\u001b[0;36m0\u001b[0m\u001b[0;34m)\u001b[0m \u001b[0;31m# sort every column\u001b[0m\u001b[0;34m\u001b[0m\u001b[0m\n\u001b[0m",
        "\u001b[0;31mNameError\u001b[0m: name 'X' is not defined"
       ]
      }
     ],
     "prompt_number": 1
    },
    {
     "cell_type": "code",
     "collapsed": false,
     "input": [
      "print X"
     ],
     "language": "python",
     "metadata": {},
     "outputs": [
      {
       "output_type": "stream",
       "stream": "stdout",
       "text": [
        "[[ 0.33  0.22  0.44]\n",
        " [ 0.34  0.33  0.63]\n",
        " [ 0.71  0.82  0.73]\n",
        " [ 0.95  0.92  0.97]\n",
        " [ 0.96  0.98  1.  ]]\n"
       ]
      }
     ],
     "prompt_number": 17
    },
    {
     "cell_type": "markdown",
     "metadata": {},
     "source": []
    },
    {
     "cell_type": "markdown",
     "metadata": {},
     "source": [
      "---\n",
      "\n",
      "#Multi-dimensional Sorting/Searching: Trees\n",
      "\n",
      "##The problem: doing things more complicated than a simple search is time consuming if done naievely.\n",
      "\n",
      "As an example, consider a nearest neighbor search among a series of particles. \n",
      "\n",
      "* $N$X$D$ array, representing N points in D dimensions (spatial, momenta, parameters, etc.)\n",
      "* A point $X_i$, where $i \\in [1, 2, \\cdots, N]$ has coordinates $x_j$ where $j \\in [1, 2, \\cdots, D]$.\n",
      "* Given a query point X, we want to find the $X_i$ that has coordinates closest to X.\n",
      "* Closeness is defined as $\\chi(X,X_i) = \\sqrt{\\Sigma_{d=1}^D (x_d - x_{i,d})^2}$\n",
      "\n",
      "Easy! Just loop!\n"
     ]
    },
    {
     "cell_type": "code",
     "collapsed": false,
     "input": [
      "import numpy as np"
     ],
     "language": "python",
     "metadata": {},
     "outputs": [],
     "prompt_number": 1
    },
    {
     "cell_type": "code",
     "collapsed": false,
     "input": [
      "# file: easy_nearest_neighbor.py import numpy as np\n",
      "def easy_nn(X):\n",
      "    N, D = X.shape\n",
      "    neighbors = np.zeros(N, dtype=int) \n",
      "    for i in range(N):\n",
      "        # initialize closest distance to infinity\n",
      "        j_closest = i \n",
      "        d_closest = np.inf \n",
      "        for j in range(N):\n",
      "            # skip distance between a point and itself\n",
      "            if i == j: \n",
      "                continue\n",
      "            d = np.sqrt(np.sum((X[i] - X[j]) ** 2)) \n",
      "            if d < d_closest:\n",
      "                j_closest = j\n",
      "                d_closest = d \n",
      "        neighbors[i] = j_closest\n",
      "    return neighbors"
     ],
     "language": "python",
     "metadata": {},
     "outputs": [],
     "prompt_number": 2
    },
    {
     "cell_type": "code",
     "collapsed": false,
     "input": [
      "np.random.seed(0)"
     ],
     "language": "python",
     "metadata": {},
     "outputs": [],
     "prompt_number": 3
    },
    {
     "cell_type": "code",
     "collapsed": false,
     "input": [
      "X = np.random.random((10, 3))"
     ],
     "language": "python",
     "metadata": {},
     "outputs": [],
     "prompt_number": 6
    },
    {
     "cell_type": "code",
     "collapsed": false,
     "input": [
      "X.shape"
     ],
     "language": "python",
     "metadata": {},
     "outputs": [
      {
       "metadata": {},
       "output_type": "pyout",
       "prompt_number": 7,
       "text": [
        "(10, 3)"
       ]
      }
     ],
     "prompt_number": 7
    },
    {
     "cell_type": "code",
     "collapsed": false,
     "input": [
      "%timeit easy_nn(X)"
     ],
     "language": "python",
     "metadata": {},
     "outputs": [
      {
       "output_type": "stream",
       "stream": "stdout",
       "text": [
        "1000 loops, best of 3: 1.38 ms per loop\n"
       ]
      }
     ],
     "prompt_number": 9
    },
    {
     "cell_type": "markdown",
     "metadata": {},
     "source": [
      "By the way, %timeit is an ipython *magic* function. There are several. Useful ones include \\%run,  %paste, and %cpaste, which will preserve indenting, which is important in python.\n",
      "\n",
      "To learn more about them, just type %magic at an ipython prompt."
     ]
    },
    {
     "cell_type": "code",
     "collapsed": false,
     "input": [
      "X = np.random.random((1000, 3))"
     ],
     "language": "python",
     "metadata": {},
     "outputs": [],
     "prompt_number": 10
    },
    {
     "cell_type": "code",
     "collapsed": false,
     "input": [
      "%timeit easy_nn(X)"
     ],
     "language": "python",
     "metadata": {},
     "outputs": [
      {
       "output_type": "stream",
       "stream": "stdout",
       "text": [
        "1 loops, best of 3: 14.9 s per loop\n"
       ]
      }
     ],
     "prompt_number": 11
    },
    {
     "cell_type": "markdown",
     "metadata": {},
     "source": [
      "Oops. Going from 10 to 1000 results in an increase on the order of $\\mathcal{O}(N^2)$ ($15/1.5e-3 \\approx 1e4$ while $N$ increased by a factor of 100.). This is clearly not sustainable once you get N at any appreciable value.\n",
      "\n",
      "##The solution: don't be naive.\n",
      "\n",
      "Numpy can do better using vectorized notations due to smart implmentation of arrays. I'm going to skip this in favor of trees though. You can see the discussion on pp 55-57.\n",
      "\n",
      "One programming habit I've taken from MATLAB: the programmer should be ashamed of every for loop (s)he uses. Make liberal use of the reshape and tile methods, as well as broadcasting. \n",
      "\n",
      "http://docs.scipy.org/doc/numpy/user/basics.broadcasting.html\n",
      "\n",
      "There are a number of options for speeding up your code. Googling \"writing fast python\" or \"writing fast matlab\" will often turn up multiple hits with very useful information. As an example: \n",
      "\n",
      "http://scipy-lectures.github.io/advanced/optimizing/\n",
      "\n",
      "There's also the option of writing code in an intrinsically fast language (like C), compiling it, and then calling the compiled code from Python. There are many interfaces for this out there, e.g. Cython, Numba, etc. \n",
      "\n",
      "Finally, there's the algorithmic choice. You can achieve significant speedup by tackling projects in a new way using data structures and techniques more appropriate to the problem.\n",
      "\n",
      "###Lets try trees, as an example. \n",
      "\n",
      "Trees are what I guess a computer scientist would call a \"data structure\". I've seen them called that in CS class web notes.. I'm not sure though. \n",
      "\n",
      "Each tree has a node and children.\n",
      "\n",
      "![alt text](http://www.magickofthought.com/wp-content/uploads/2010/06/tree.jpg \"http://www.magickofthought.com/2010/06/powering-new-mental-areas/\")\n",
      "\n",
      "Credit: http://www.magickofthought.com/2010/06/powering-new-mental-areas/\n",
      "\n",
      "Here is a URL that provides an introduction to trees, often the first non-linear data structure encountered by computer science students, it seems.\n",
      "\n",
      "http://pages.cs.wisc.edu/~hasti/cs367-1/readings/Trees/index.html\n",
      "\n",
      "\n",
      "####Specific examples:\n",
      "\n",
      "* **Quad Trees**: Work in 2 dimensions. Each dimension is divided in half, yielding four quadrants.\n",
      "* **Oct Trees**: Work in 3 dimesions. Each dimension is bisected, yielding octants.\n",
      "* **kd Trees**: Slightly more advanced, but works in k dimensions.\n",
      "\n",
      "###Here's an octtree example taken from the book.\n",
      "\n"
     ]
    },
    {
     "cell_type": "code",
     "collapsed": false,
     "input": [
      "%matplotlib inline"
     ],
     "language": "python",
     "metadata": {},
     "outputs": [],
     "prompt_number": 35
    },
    {
     "cell_type": "code",
     "collapsed": false,
     "input": [
      "from astroML.plotting import setup_text_plots"
     ],
     "language": "python",
     "metadata": {},
     "outputs": [],
     "prompt_number": 36
    },
    {
     "cell_type": "code",
     "collapsed": false,
     "input": [
      "setup_text_plots(fontsize=8, usetex=True)"
     ],
     "language": "python",
     "metadata": {},
     "outputs": [],
     "prompt_number": 37
    },
    {
     "cell_type": "code",
     "collapsed": false,
     "input": [
      "# We'll create a QuadTree class which will recursively subdivide the\n",
      "# space into quadrants\n",
      "class QuadTree:\n",
      "    \"\"\"Simple Quad-tree class\"\"\"\n",
      "\n",
      "    # class initialization function\n",
      "    def __init__(self, data, mins, maxs, depth=3):\n",
      "        self.data = np.asarray(data)\n",
      "\n",
      "        # data should be two-dimensional\n",
      "        assert self.data.shape[1] == 2\n",
      "\n",
      "        if mins is None:\n",
      "            mins = data.min(0)\n",
      "        if maxs is None:\n",
      "            maxs = data.max(0)\n",
      "\n",
      "        self.mins = np.asarray(mins)\n",
      "        self.maxs = np.asarray(maxs)\n",
      "        self.sizes = self.maxs - self.mins\n",
      "\n",
      "        self.children = []\n",
      "\n",
      "        mids = 0.5 * (self.mins + self.maxs)\n",
      "        xmin, ymin = self.mins\n",
      "        xmax, ymax = self.maxs\n",
      "        xmid, ymid = mids\n",
      "\n",
      "        if depth > 0:\n",
      "            # split the data into four quadrants\n",
      "            data_q1 = data[(data[:, 0] < mids[0])\n",
      "                           & (data[:, 1] < mids[1])]\n",
      "            data_q2 = data[(data[:, 0] < mids[0])\n",
      "                           & (data[:, 1] >= mids[1])]\n",
      "            data_q3 = data[(data[:, 0] >= mids[0])\n",
      "                           & (data[:, 1] < mids[1])]\n",
      "            data_q4 = data[(data[:, 0] >= mids[0])\n",
      "                           & (data[:, 1] >= mids[1])]\n",
      "\n",
      "            # recursively build a quad tree on each quadrant which has data\n",
      "            if data_q1.shape[0] > 0:\n",
      "                self.children.append(QuadTree(data_q1,\n",
      "                                              [xmin, ymin], [xmid, ymid],\n",
      "                                              depth - 1))\n",
      "            if data_q2.shape[0] > 0:\n",
      "                self.children.append(QuadTree(data_q2,\n",
      "                                              [xmin, ymid], [xmid, ymax],\n",
      "                                              depth - 1))\n",
      "            if data_q3.shape[0] > 0:\n",
      "                self.children.append(QuadTree(data_q3,\n",
      "                                              [xmid, ymin], [xmax, ymid],\n",
      "                                              depth - 1))\n",
      "            if data_q4.shape[0] > 0:\n",
      "                self.children.append(QuadTree(data_q4,\n",
      "                                              [xmid, ymid], [xmax, ymax],\n",
      "                                              depth - 1))\n",
      "\n",
      "    def draw_rectangle(self, ax, depth):\n",
      "        \"\"\"Recursively plot a visualization of the quad tree region\"\"\"\n",
      "        if depth is None or depth == 0:\n",
      "            rect = plt.Rectangle(self.mins, *self.sizes, zorder=2,\n",
      "                                 ec='#000000', fc='none')\n",
      "            ax.add_patch(rect)\n",
      "        if depth is None or depth > 0:\n",
      "            for child in self.children:\n",
      "                child.draw_rectangle(ax, depth - 1)"
     ],
     "language": "python",
     "metadata": {},
     "outputs": [],
     "prompt_number": 38
    },
    {
     "cell_type": "code",
     "collapsed": false,
     "input": [
      "def draw_grid(ax, xlim, ylim, Nx, Ny, **kwargs):\n",
      "    \"\"\" draw a background grid for the quad tree\"\"\"\n",
      "    for x in np.linspace(xlim[0], xlim[1], Nx):\n",
      "        ax.plot([x, x], ylim, **kwargs)\n",
      "    for y in np.linspace(ylim[0], ylim[1], Ny):\n",
      "        ax.plot(xlim, [y, y], **kwargs)\n"
     ],
     "language": "python",
     "metadata": {},
     "outputs": [],
     "prompt_number": 39
    },
    {
     "cell_type": "code",
     "collapsed": false,
     "input": [
      "#------------------------------------------------------------\n",
      "# Create a set of structured random points in two dimensions\n",
      "np.random.seed(0)\n",
      "\n",
      "X = np.random.random((30, 2)) * 2 - 1\n",
      "X[:, 1] *= 0.1\n",
      "X[:, 1] += X[:, 0] ** 2"
     ],
     "language": "python",
     "metadata": {},
     "outputs": [],
     "prompt_number": 40
    },
    {
     "cell_type": "code",
     "collapsed": false,
     "input": [
      "#------------------------------------------------------------\n",
      "# Use our Quad Tree class to recursively divide the space\n",
      "mins = (-1.1, -0.1)\n",
      "maxs = (1.1, 1.1)\n",
      "QT = QuadTree(X, mins, maxs, depth=3)"
     ],
     "language": "python",
     "metadata": {},
     "outputs": [],
     "prompt_number": 41
    },
    {
     "cell_type": "code",
     "collapsed": false,
     "input": [
      "#------------------------------------------------------------\n",
      "# Plot four different levels of the quad tree\n",
      "fig = plt.figure(figsize=(5, 5))\n",
      "fig.subplots_adjust(wspace=0.1, hspace=0.15,\n",
      "                    left=0.1, right=0.9,\n",
      "                    bottom=0.05, top=0.9)\n",
      "\n",
      "for level in range(1, 5):\n",
      "    ax = fig.add_subplot(2, 2, level, xticks=[], yticks=[])\n",
      "    ax.scatter(X[:, 0], X[:, 1])\n",
      "    QT.draw_rectangle(ax, depth=level - 1)\n",
      "\n",
      "    Nlines = 1 + 2 ** (level - 1)\n",
      "    draw_grid(ax, (mins[0], maxs[0]), (mins[1], maxs[1]),\n",
      "              Nlines, Nlines, linewidth=1,\n",
      "              color='#CCCCCC', zorder=0)\n",
      "\n",
      "    ax.set_xlim(-1.2, 1.2)\n",
      "    ax.set_ylim(-0.15, 1.15)\n",
      "    ax.set_title('level %i' % level)\n",
      "\n",
      "# suptitle() adds a title to the entire figure\n",
      "fig.suptitle('Quad-tree Example')\n",
      "#plt.show()"
     ],
     "language": "python",
     "metadata": {},
     "outputs": [
      {
       "metadata": {},
       "output_type": "pyout",
       "prompt_number": 43,
       "text": [
        "<matplotlib.text.Text at 0x10cc43c10>"
       ]
      },
      {
       "metadata": {},
       "output_type": "display_data",
       "png": "[encoded data removed]",
       "text": [
        "<matplotlib.figure.Figure at 0x10cc43bd0>"
       ]
      }
     ],
     "prompt_number": 43
    },
    {
     "cell_type": "markdown",
     "metadata": {},
     "source": [
      "###Wow. Such efficiency.\n",
      "\n",
      "If your dataset isn't changing, then the tree build needs to be done only once and from then on out any repeated calls are $\\mathcal{O}(\\log N)$. The tree is a one-time $\\mathcal{O}(N \\log N)$ calculation.\n",
      "\n",
      "However, if we use straightforward bisection, the memory requirements for the tree (i.e. number of nodes) quickly ramp out of control. The number of children per node is $2^n$ where $n$ is the dimension of the problem. For a 6-d phasespace, that's $2^6 = 256$ floats or doubles per node. This rapidly grows beyond control.\n",
      "\n",
      "kd-Trees attempt to mitigate this by abandoning the bisection requirement and doing something smart about the point of division based on the shape of the data. It also limits the number of children per node to two, operating in a hyperspace with the whole data.\n",
      "\n",
      "This same consideration will lead to Monte Carlo techniques later in the book.\n",
      "\n",
      "\n",
      "\n",
      "\n",
      "\n"
     ]
    },
    {
     "cell_type": "code",
     "collapsed": false,
     "input": [
      "import numpy as np\n",
      "from astroML.plotting import setup_text_plots\n",
      "from matplotlib import pyplot as plt\n",
      "setup_text_plots(fontsize=8, usetex=True)"
     ],
     "language": "python",
     "metadata": {},
     "outputs": [],
     "prompt_number": 10
    },
    {
     "cell_type": "code",
     "collapsed": false,
     "input": [
      "%matplotlib inline"
     ],
     "language": "python",
     "metadata": {},
     "outputs": [],
     "prompt_number": 11
    },
    {
     "cell_type": "code",
     "collapsed": false,
     "input": [
      "\n",
      "\n",
      "\n",
      "# We'll create a KDTree class which will recursively subdivide the\n",
      "# space into rectangular regions.  Note that this is just an example\n",
      "# and shouldn't be used for real computation; instead use the optimized\n",
      "# code in scipy.spatial.cKDTree or sklearn.neighbors.BallTree\n",
      "class KDTree:\n",
      "    \"\"\"Simple KD tree class\"\"\"\n",
      "\n",
      "    # class initialization function\n",
      "    def __init__(self, data, mins, maxs):\n",
      "        self.data = np.asarray(data)\n",
      "\n",
      "        # data should be two-dimensional\n",
      "        assert self.data.shape[1] == 2\n",
      "\n",
      "        if mins is None:\n",
      "            mins = data.min(0)\n",
      "        if maxs is None:\n",
      "            maxs = data.max(0)\n",
      "\n",
      "        self.mins = np.asarray(mins)\n",
      "        self.maxs = np.asarray(maxs)\n",
      "        self.sizes = self.maxs - self.mins\n",
      "\n",
      "        self.child1 = None\n",
      "        self.child2 = None\n",
      "\n",
      "        if len(data) > 1:\n",
      "            # sort on the dimension with the largest spread\n",
      "            largest_dim = np.argmax(self.sizes)\n",
      "            i_sort = np.argsort(self.data[:, largest_dim])\n",
      "            self.data[:] = self.data[i_sort, :]\n",
      "\n",
      "            # find split point\n",
      "            N = self.data.shape[0]\n",
      "            split_point = 0.5 * (self.data[N / 2, largest_dim]\n",
      "                                 + self.data[N / 2 - 1, largest_dim])\n",
      "\n",
      "            # create subnodes\n",
      "            mins1 = self.mins.copy()\n",
      "            mins1[largest_dim] = split_point\n",
      "            maxs2 = self.maxs.copy()\n",
      "            maxs2[largest_dim] = split_point\n",
      "\n",
      "            # Recursively build a KD-tree on each sub-node\n",
      "            self.child1 = KDTree(self.data[N / 2:], mins1, self.maxs)\n",
      "            self.child2 = KDTree(self.data[:N / 2], self.mins, maxs2)\n",
      "\n",
      "    def draw_rectangle(self, ax, depth=None):\n",
      "        \"\"\"Recursively plot a visualization of the KD tree region\"\"\"\n",
      "        if depth == 0:\n",
      "            rect = plt.Rectangle(self.mins, *self.sizes, ec='k', fc='none')\n",
      "            ax.add_patch(rect)\n",
      "\n",
      "        if self.child1 is not None:\n",
      "            if depth is None:\n",
      "                self.child1.draw_rectangle(ax)\n",
      "                self.child2.draw_rectangle(ax)\n",
      "            elif depth > 0:\n",
      "                self.child1.draw_rectangle(ax, depth - 1)\n",
      "                self.child2.draw_rectangle(ax, depth - 1)\n"
     ],
     "language": "python",
     "metadata": {},
     "outputs": [],
     "prompt_number": 5
    },
    {
     "cell_type": "code",
     "collapsed": false,
     "input": [
      "#------------------------------------------------------------\n",
      "# Create a set of structured random points in two dimensions\n",
      "np.random.seed(0)\n",
      "\n",
      "X = np.random.random((30, 2)) * 2 - 1\n",
      "X[:, 1] *= 0.1\n",
      "X[:, 1] += X[:, 0] ** 2\n",
      "\n",
      "#------------------------------------------------------------\n",
      "# Use our KD Tree class to recursively divide the space\n",
      "KDT = KDTree(X, [-1.1, -0.1], [1.1, 1.1])\n",
      "\n",
      "#------------------------------------------------------------\n",
      "# Plot four different levels of the KD tree\n",
      "fig = plt.figure(figsize=(5, 5))\n",
      "fig.subplots_adjust(wspace=0.1, hspace=0.15,\n",
      "                    left=0.1, right=0.9,\n",
      "                    bottom=0.05, top=0.9)\n",
      "\n",
      "for level in range(1, 5):\n",
      "    ax = fig.add_subplot(2, 2, level, xticks=[], yticks=[])\n",
      "    ax.scatter(X[:, 0], X[:, 1], s=9)\n",
      "    KDT.draw_rectangle(ax, depth=level - 1)\n",
      "\n",
      "    ax.set_xlim(-1.2, 1.2)\n",
      "    ax.set_ylim(-0.15, 1.15)\n",
      "    ax.set_title('level %i' % level)\n",
      "\n",
      "# suptitle() adds a title to the entire figure\n",
      "fig.suptitle('$k$d-tree Example')"
     ],
     "language": "python",
     "metadata": {},
     "outputs": [
      {
       "metadata": {},
       "output_type": "pyout",
       "prompt_number": 12,
       "text": [
        "<matplotlib.text.Text at 0x104d70890>"
       ]
      },
      {
       "metadata": {},
       "output_type": "display_data",
       "png": "[encoded data removed]",
       "text": [
        "<matplotlib.figure.Figure at 0x104d70910>"
       ]
      }
     ],
     "prompt_number": 12
    },
    {
     "cell_type": "markdown",
     "metadata": {},
     "source": [
      "Fortunately there exist implementations of all these things in Python done properly.\n",
      "\n",
      "http://docs.scipy.org/doc/scipy/reference/generated/scipy.spatial.KDTree.html"
     ]
    },
    {
     "cell_type": "code",
     "collapsed": false,
     "input": [
      "import numpy as np\n",
      "from scipy.spatial import cKDTree\n"
     ],
     "language": "python",
     "metadata": {},
     "outputs": [],
     "prompt_number": 13
    },
    {
     "cell_type": "code",
     "collapsed": false,
     "input": [
      "np.random.seed(0)"
     ],
     "language": "python",
     "metadata": {},
     "outputs": [],
     "prompt_number": 14
    },
    {
     "cell_type": "code",
     "collapsed": false,
     "input": [
      "X = np.random.random((1000, 3))"
     ],
     "language": "python",
     "metadata": {},
     "outputs": [],
     "prompt_number": 15
    },
    {
     "cell_type": "code",
     "collapsed": false,
     "input": [
      "kdt = cKDTree(X) # build the KDTree"
     ],
     "language": "python",
     "metadata": {},
     "outputs": [],
     "prompt_number": 16
    },
    {
     "cell_type": "code",
     "collapsed": false,
     "input": [
      "%timeit kdt.query(X, k=2)"
     ],
     "language": "python",
     "metadata": {},
     "outputs": [
      {
       "output_type": "stream",
       "stream": "stdout",
       "text": [
        "100 loops, best of 3: 2.76 ms per loop\n"
       ]
      }
     ],
     "prompt_number": 17
    },
    {
     "cell_type": "code",
     "collapsed": false,
     "input": [
      " X = np.random.random ((100000, 3))"
     ],
     "language": "python",
     "metadata": {},
     "outputs": [],
     "prompt_number": 18
    },
    {
     "cell_type": "code",
     "collapsed": false,
     "input": [
      "kdt = cKDTree(X)"
     ],
     "language": "python",
     "metadata": {},
     "outputs": [],
     "prompt_number": 19
    },
    {
     "cell_type": "code",
     "collapsed": false,
     "input": [
      "%timeit kdt.query(X, k=2)"
     ],
     "language": "python",
     "metadata": {},
     "outputs": [
      {
       "output_type": "stream",
       "stream": "stdout",
       "text": [
        "1 loops, best of 3: 494 ms per loop\n"
       ]
      }
     ],
     "prompt_number": 20
    },
    {
     "cell_type": "markdown",
     "metadata": {},
     "source": [
      "#Other kinds of tree strategies\n",
      "\n",
      "See http://scikit-learn.org/stable/modules/neighbors.html\n",
      "\n",
      "* **Ball Trees**: Make use of the fact that data are often clustered and uses hyper-spherical nodes/children. See pp. 60-62.\n",
      "* **Basis Change**: Often dimensions are strongly correlated and it's possible to reduce the dimensionality of the problem, e.g. PCA.\n",
      "* **Hexagon Balls Trees**: http://www.noao.edu/noao/staff/yao/sdss_papers/kunszt.pdf\n",
      "* **Maximum margin trees**: time sensitive, do the best you can in a specific time budget\n",
      "* **Approximate Neighbor Methods**"
     ]
    }
   ],
   "metadata": {}
  }
 ]
}