{
 "metadata": {
  "name": ""
 },
 "nbformat": 3,
 "nbformat_minor": 0,
 "worksheets": [
  {
   "cells": [
    {
     "cell_type": "code",
     "collapsed": false,
     "input": [
      "%matplotlib inline\n",
      "import numpy as np\n",
      "import pandas as pd"
     ],
     "language": "python",
     "metadata": {},
     "outputs": [],
     "prompt_number": 32
    },
    {
     "cell_type": "markdown",
     "metadata": {},
     "source": [
      "OOP and You\n",
      "===========\n",
      "*Object Oriented Programming* or \"OOP\" is a computer programming paradigm or style. Python is Object Oriented, similar to other popular languages such as Java or C++, but Python also supports other paradigms such as *functional* (Lisp, Haskell) and *procedural* (C, Fortran). There are an almost innumerable number of paradigms (cf. https://en.wikipedia.org/wiki/Programming_paradigm), but OOP allows for cheap *abstraction* and *modularization*. These permit simple logical hierarchies and easy code-reuse[1]. If you find yourself copying and pasting code between modules, getting confused about the control flow, or frequently passing around a \"God list\" between functions, then your code will likely benefit from a healthy dose of OOP. It is also fun to say.\n",
      "\n",
      "In short, by modeling code as a set of interacting objects, a program can benefit with:\n",
      "\n",
      "* ease of understanding and reasoning\n",
      "* ease of maintanenance\n",
      "* ease of extension and evolution\n",
      "\n",
      "[1] DRY: Don't Repeat Yourself"
     ]
    },
    {
     "cell_type": "markdown",
     "metadata": {},
     "source": [
      "Pythonic Code\n",
      "-------------\n",
      "Code that is \"idiomatic\" in the Python language is said to be *pythonic*. Idiomatic code is the preferred and likely the simplest way of coding a problem given the solutions of Python language. At it's core Python is an OO language and thus pythonic code is often object oriented. In Python, \"there should be one--and preferrably only one--obvious way to do it,\" in contrast to the Perl approach where \"there is more than one way to do it.\" The \"Zen of Python\" outlines the style for pythonic code:"
     ]
    },
    {
     "cell_type": "code",
     "collapsed": false,
     "input": [
      "import this"
     ],
     "language": "python",
     "metadata": {},
     "outputs": [],
     "prompt_number": 39
    },
    {
     "cell_type": "markdown",
     "metadata": {},
     "source": [
      "Useful pointers of idiomatic python: http://python.net/~goodger/projects/pycon/2007/idiomatic/handout.html"
     ]
    },
    {
     "cell_type": "markdown",
     "metadata": {},
     "source": [
      "Outline\n",
      "=======\n",
      "Jargon with quick and dirty explanations:\n",
      "\n",
      "Elements of OOP\n",
      "---------------\n",
      "\n",
      "* *Class*: an object \"blueprint\"\n",
      "* *Object*: an instance of a class\n",
      "* *Attribute*: a variable bound to a class\n",
      "* *Method*: a function bound to a class\n",
      "* *Property*: an attribute with special \"get\" and \"set\" methods\n",
      "* *Magic Method*: a special method, for say instantiation, addition, or list-type access\n",
      "\n",
      "\n",
      "Relationships between Objects\n",
      "-----------------------------\n",
      "\n",
      "* *Polymorphism* or *Duck-typing*: If it walks like a duck...\n",
      "* *Inheritance*: A car **is a** vehicle\n",
      "* *Multiple-Inheritance* and *Mixins*: A motorhome **is a** vehicle **and a** residance\n",
      "* *Composition*: A car **has an** engine"
     ]
    },
    {
     "cell_type": "markdown",
     "metadata": {},
     "source": [
      "Classes and Objects\n",
      "===================\n",
      "In Python, everything is an object. What is an object? An object is an instance of a class. A class in python is the \"blueprint\" for creating an object and defining it's behaviour."
     ]
    },
    {
     "cell_type": "code",
     "collapsed": false,
     "input": [
      "# Note: by convention python classes are always written in CamelCase\n",
      "class Query(object):\n",
      "    pass\n",
      "\n",
      "def f():\n",
      "    return 0\n",
      "\n",
      "# `q1` and `q2` are instances of the `Query` class.\n",
      "x = f()\n",
      "q1 = Query()  # \"call\" the class, just like a zero argument function\n",
      "q2 = Query()\n"
     ],
     "language": "python",
     "metadata": {},
     "outputs": [],
     "prompt_number": 33
    },
    {
     "cell_type": "code",
     "collapsed": false,
     "input": [
      "print q1  # without instructions how to print, it prints the class name and a pointer to it's memory location\n",
      "print q2\n",
      "print type(q1)  # what class?\n",
      "print isinstance(q1, Query)  # True"
     ],
     "language": "python",
     "metadata": {},
     "outputs": [
      {
       "output_type": "stream",
       "stream": "stdout",
       "text": [
        "<__main__.Query object at 0x5165850>\n",
        "<__main__.Query object at 0x506e7d0>\n",
        "<class '__main__.Query'>\n",
        "True\n"
       ]
      }
     ],
     "prompt_number": 34
    },
    {
     "cell_type": "code",
     "collapsed": false,
     "input": [
      "my_num = 1\n",
      "# `is` tests whether variables (objects) share the same location and value in memory\n",
      "# Note: to test equality use the `==` operator.\n",
      "# Note: think of python variables like tags on boxes, rather than the contents of boxes\n",
      "my_num is 1  # True, same memory\n",
      "\n",
      "a = np.array([1,2,3])  # returns an numpy.ndarray object\n",
      "b = np.array([1,2,3])\n",
      "\n",
      "print np.all(a == b)  # True, all values compared element-wise are equal\n",
      "print a is b  # False, two different copies in memory\n",
      "print q1 is q2  # False, different instances of the same class"
     ],
     "language": "python",
     "metadata": {},
     "outputs": [
      {
       "output_type": "stream",
       "stream": "stdout",
       "text": [
        "True\n",
        "False\n",
        "False\n"
       ]
      }
     ],
     "prompt_number": 35
    },
    {
     "cell_type": "code",
     "collapsed": false,
     "input": [
      "# python allows dynamic assignment of variables to object instances (\"attributes\").\n",
      "# it is not required to specify attributes in the class statement, however it\n",
      "# is almost always a good idea to in order to make clean and readable code.\n",
      "q1.url = 'http://foo'\n",
      "print q1.url\n",
      "\n",
      "# Note: the purpose of a `property` is to preserve this way of accessing and assigning values\n",
      "#       but for when things get more complicated"
     ],
     "language": "python",
     "metadata": {},
     "outputs": [
      {
       "output_type": "stream",
       "stream": "stdout",
       "text": [
        "http://foo\n"
       ]
      }
     ],
     "prompt_number": 36
    },
    {
     "cell_type": "markdown",
     "metadata": {},
     "source": [
      "Attributes\n",
      "==========\n",
      "Attributes are variables bound to classes or objects. They can be assigned within the class statement or dynamically (see above). Attributes are only known within the \"scope\" of the class or object, and must be referenced with the \".\" syntax of `object.attribute`  (actually because everything in Python is an object, including numeric/string literals and functions, this should really read `object.object`...)."
     ]
    },
    {
     "cell_type": "code",
     "collapsed": false,
     "input": [
      "class Query(object):\n",
      "    url = 'http://foo'\n",
      "\n",
      "# ^ *Class* attributes are shared across all objects created when `Query` is\n",
      "#   called. When an instance of a class is created, all of the class attributes\n",
      "#   become *instance* attributes -- specific to only that one instance.\n",
      "\n",
      "q1 = Query()\n",
      "q2 = Query()\n",
      "\n",
      "print q1.url, q2.url\n",
      "q1.url = 'http://bar'\n",
      "print q1.url, q2.url  # q2.url did not change\n"
     ],
     "language": "python",
     "metadata": {},
     "outputs": [
      {
       "output_type": "stream",
       "stream": "stdout",
       "text": [
        "http://foo http://foo\n",
        "http://bar http://foo\n"
       ]
      }
     ],
     "prompt_number": 37
    },
    {
     "cell_type": "markdown",
     "metadata": {},
     "source": [
      "Methods\n",
      "=======\n",
      "Methods are functions bound to classes or objects. They can also be dynamically assigned and need not be defined in the class statement (although this is generally preferred to not confuse yourself or other programmers). Methods can \"see\" all of the attributes and state of the current object when it executes (ie, within the object's lexical scope). The ability to reference the *state* of the object are what make methods distinct from simple functions."
     ]
    },
    {
     "cell_type": "code",
     "collapsed": false,
     "input": [
      "import requests\n",
      "\n",
      "class Query(object):\n",
      "    url = 'http://home.strw.leidenuniv.nl/~moldata/datafiles/{0}.dat'\n",
      "    \n",
      "    # The `__init__` method is a \"magic method\" that is used when you want to call\n",
      "    # a class to create an instance. Positional and keyword arguments work just the\n",
      "    # same as they do in normal function definitions.\n",
      "    # Note: `self` is a special name commonly given to the first positional argument\n",
      "    # of every instance method, it represents the instance of the object once instantiated\n",
      "    # and is how you reference any attributes or methods once the object is created.\n",
      "    def __init__(self, mol, verbose=False):\n",
      "        self.mol = mol\n",
      "        self.verbose = verbose\n",
      "        self.clean_data = None\n",
      "\n",
      "    # Another magic method for what to do when called as a string\n",
      "    def __str__(self):\n",
      "        return '\\n'.join(self.clean_data[:20])\n",
      "                \n",
      "    # a \"static\" method does not need to reference anything outside of it\n",
      "    # so it does not need `self` (the object instance) as it's first argument.\n",
      "    @staticmethod\n",
      "    def strip_lines(data):\n",
      "        return [s.strip() for s in data.split('\\n')] \n",
      "    \n",
      "    # a normal \"instance\" method\n",
      "    def run(self):\n",
      "        if self.verbose:  # truthiness means we don't have to test\n",
      "            print '-- Executing query'\n",
      "        raw_data = requests.get(self.url.format(self.mol)).text\n",
      "        clean_data = self.strip_lines(raw_data)\n",
      "        self.clean_data = clean_data\n",
      "\n",
      "\n",
      "q1 = Query('co')\n",
      "q1.run()\n",
      "print q1"
     ],
     "language": "python",
     "metadata": {},
     "outputs": [
      {
       "output_type": "stream",
       "stream": "stdout",
       "text": [
        "!MOLECULE\n",
        "CO\n",
        "!MOLECULAR WEIGHT\n",
        "28.0\n",
        "!NUMBER OF ENERGY LEVELS\n",
        "41\n",
        "!LEVEL + ENERGIES(cm^-1) + WEIGHT + J\n",
        "1     0.000000000\t    1.0\t    0\n",
        "2     3.845033413\t    3.0\t    1\n",
        "3    11.534919938\t    5.0\t    2\n",
        "4    23.069512649\t    7.0\t    3\n",
        "5    38.448164669\t    9.0     4\n",
        "6    57.670329083\t   11.0     5\n",
        "7    80.735459105\t   13.0\t    6\n",
        "8   107.642407981\t   15.0\t    7\n",
        "9   138.390328288\t   17.0\t    8\n",
        "10   172.978074417\t   19.0\t    9\n",
        "11   211.404098498\t   21.0\t   10\n",
        "12   253.667154063\t   23.0\t   11\n",
        "13   299.765594677\t   25.0\t   12\n"
       ]
      }
     ],
     "prompt_number": 41
    },
    {
     "cell_type": "markdown",
     "metadata": {},
     "source": [
      "Note on Methods\n",
      "---------------"
     ]
    },
    {
     "cell_type": "code",
     "collapsed": false,
     "input": [
      "# When defining classes and methods, think about how you or others\n",
      "# would us that object in practice. In this way, it is best to avoid\n",
      "# \"incompletely initiliazed objects\", where after creating the object,\n",
      "# multiple methods must be executed to get the desired result.\n",
      "# Example:\n",
      "q = Query('co')  # <-- `q` is initialized\n",
      "q.fetch()  # well,\n",
      "q.parse()  # not\n",
      "q.analyze()  # quite\n",
      "a = (q.data, q.results)  # now it is though\n",
      "\n",
      "# This is discouraged because without careful documentation and\n",
      "# internal testing within the class it is:\n",
      "# a) easy to do these methods out of order or omit a step,\n",
      "#    thus breaking things internally when attributes are undefined\n",
      "# b) without careful directives in the docstring it is very difficult\n",
      "#    for the user/you-three-months-from-now to discover what methods\n",
      "#    have to be run and in what order to run them.\n",
      "\n",
      "# In this case, it would be best to either make a function that\n",
      "# initializes the object...\n",
      "def query_factory(mol, QueryEngine=Query):\n",
      "    q = QueryEngine(mol)  # Could be CDMS, JPL, or Leiden!\n",
      "    q.fetch()\n",
      "    q.parse()\n",
      "    q.analyze()\n",
      "    return q\n",
      "# It may seem convoluted to use a function to manipulate the object,\n",
      "# why not have just made a bunch of functions to begin with and pass\n",
      "# arguments between each other? A class exists to *encapsulate* code\n",
      "# ie hide the internals with an interface of methods and attributes\n",
      "# and make the code easier to extend and maintain. Note in this example\n",
      "# we leverage object *polymorphism* or *ducktyping*. As long as we\n",
      "# make a query class that implements the `fetch`, `parse`, and `analyze`\n",
      "# methods and takes an argument `mol`, this function can be used to\n",
      "# generate the objects. As long as classes have the same interface,\n",
      "# they can be used interchangeably. (Note this is what functions like\n",
      "# `np.array` do, take arguments and spit back fully initialized instances\n",
      "# of np.ndarray).\n",
      "\n",
      "# Alternatively, you can just stuff all the methods into the `__init__`\n",
      "# method and be done with it.\n"
     ],
     "language": "python",
     "metadata": {},
     "outputs": [],
     "prompt_number": 10
    },
    {
     "cell_type": "markdown",
     "metadata": {},
     "source": [
      "Big Picture\n",
      "===========\n",
      "So we see that objects are just collections of values (attributes) and functions that operate on those values (methods). How does this help us? OOP enables us to interpret our problem in terms of *interactions between objects* rather than mappings of functions to data or procedures of data manipulations moving from the top to bottom of a file. Below we'll discuss design patterns of OOP. Not all code is best described by OOP patterns, but often complex code can be simplified in terms of interacting objects. Frequently OOP can require a more verbose level of code initially, but this code is often more extensible, and easier to maintain and interpet. Python allows for multiple paradigms, so it is the job of the programmer to decide what best describes the problem."
     ]
    },
    {
     "cell_type": "markdown",
     "metadata": {},
     "source": [
      "Relationships Between Objects\n",
      "=============================\n",
      "Below we'll look at a set of toy example of a solar system. If this seems contrived, it is, but real world examples are often more complex and constrained by the problem domain, so clarity of the design patterns is the ultimate goal here."
     ]
    },
    {
     "cell_type": "markdown",
     "metadata": {},
     "source": [
      "Inheritance\n",
      "===========\n",
      "Perhaps the single most powerful concept of OOP. This relationship is sometimes known as \"is a\" in that a sub-class \"is a\" super-class in a graph of the class hierarchy (\"a lion (sub) is a feline (super)\"). See it in action:"
     ]
    },
    {
     "cell_type": "code",
     "collapsed": false,
     "input": [
      "# Put common behaviour into a super-class that more specific classes *inherit* from\n",
      "class BaseQuery(object):\n",
      "    def get_data(self, **kwargs):\n",
      "        request = requests.get(self.url.format(**kwargs))  # note we didn't have to specify `self.url`!\n",
      "        request.raise_for_status()\n",
      "        self.text = request.text\n",
      "        \n",
      "    def __str__(self):\n",
      "        lines = self.text.split('\\n')[:20]\n",
      "        return '\\n'.join(lines)\n",
      "    \n",
      "\n",
      "# Specialized code is put into sub-classes, this allows for the base-class code to be:\n",
      "# * reusable: write code once, then inherit whenever you need it\n",
      "# * modular: chunks of code have clear-cut and specialized purposes\n",
      "# * logical: many small, specialized objects versus one long procedure\n",
      "# * extensible: if you need add further functionality, you could inherit from this sub-type\n",
      "#               instead of modifying the definition.\n",
      "class LamdaQuery(BaseQuery):\n",
      "    url = 'http://home.strw.leidenuniv.nl/~moldata/datafiles/{mol}.dat'  # here we actually make the assignment\n",
      "    \n",
      "    def __init__(self, mol):\n",
      "        self.mol = mol\n",
      "    \n",
      "    def run(self):\n",
      "        self.get_data(mol=self.mol)  # the sub-class can reference all methods and attributes in the super-class\n",
      "\n",
      "\n",
      "q = LamdaQuery('co')\n",
      "q.run()\n",
      "print q"
     ],
     "language": "python",
     "metadata": {},
     "outputs": [
      {
       "output_type": "stream",
       "stream": "stdout",
       "text": [
        "!MOLECULE\n",
        "CO\n",
        "!MOLECULAR WEIGHT\n",
        "28.0\n",
        "!NUMBER OF ENERGY LEVELS\n",
        "41\n",
        "!LEVEL + ENERGIES(cm^-1) + WEIGHT + J\n",
        "    1     0.000000000\t    1.0\t    0\n",
        "    2     3.845033413\t    3.0\t    1\n",
        "    3    11.534919938\t    5.0\t    2\n",
        "    4    23.069512649\t    7.0\t    3\n",
        "    5    38.448164669\t    9.0     4\n",
        "    6    57.670329083\t   11.0     5\n",
        "    7    80.735459105\t   13.0\t    6\n",
        "    8   107.642407981\t   15.0\t    7\n",
        "    9   138.390328288\t   17.0\t    8\n",
        "   10   172.978074417\t   19.0\t    9\n",
        "   11   211.404098498\t   21.0\t   10\n",
        "   12   253.667154063\t   23.0\t   11\n",
        "   13   299.765594677\t   25.0\t   12\n"
       ]
      }
     ],
     "prompt_number": 42
    },
    {
     "cell_type": "markdown",
     "metadata": {},
     "source": [
      "As an astute reader, you may be wondering why we have to write `class Foo(object):` in our class definitions. Well, you are just seeing inheritance at work! Classes were improved in Python 2 from \"old-style\" to \"new-style\" classes, and to effect this change, if you want the new-style class features, you must inherit from the \"top-level\" class that everything else inherits from: `object`."
     ]
    },
    {
     "cell_type": "markdown",
     "metadata": {},
     "source": [
      "Multiple Inheritance and Mixins\n",
      "===============================\n",
      "The more the merrier, right? Not always, often multiple inheritance can lead to methods and attributes that conflict and cause difficult to debug problems. Java's strong preference for inheritance has lead to a great deal of awful code being written in the enterprise environment, and thus many people will state that multiple inheritance is a Bad Thing. However, if classes have clearly distinct functions (such as a Parser or a Printer, say), and that they are not meant to stand on their own, they become known as the much beloved \"Mixins\" of the Python community (becoming ParseMixin and PrintMixin)."
     ]
    },
    {
     "cell_type": "code",
     "collapsed": false,
     "input": [
      "import pprint\n",
      "\n",
      "\n",
      "class BaseQuery(object):\n",
      "    def get_data(self, **kwargs):\n",
      "        request = requests.get(self.url.format(**kwargs))\n",
      "        request.raise_for_status()\n",
      "        self.text = request.text\n",
      "        \n",
      "    def __str__(self):\n",
      "        return self.text\n",
      "\n",
      "\n",
      "# The Mixin class has no `__init__` method and as it not meant to\n",
      "# be initialized or called on its own (note the similarity to `BaseQuery`\n",
      "# above, which is technically an abstract base class. \n",
      "class PrettyPrinterMixin(object):\n",
      "    pp = pprint.PrettyPrinter(indent=1)\n",
      "    \n",
      "    def __repr__(self):\n",
      "        return str(self.pp.pprint(self.text.split('\\n')[:20]))\n",
      "        \n",
      "\n",
      "# If by adding various Mixins, we can add (and reuse!) the code for\n",
      "# a specific functionality.\n",
      "class LamdaQuery(BaseQuery, PrettyPrinterMixin):\n",
      "    url = 'http://home.strw.leidenuniv.nl/~moldata/datafiles/{mol}.dat'\n",
      "    \n",
      "    def __init__(self, mol):\n",
      "        self.mol = mol\n",
      "    \n",
      "    def run(self):\n",
      "        self.get_data(mol=self.mol)\n",
      "\n",
      "\n",
      "q = LamdaQuery('co')\n",
      "q.run()\n",
      "q  # when an object is referenced in the REPL (Read-Eval-Print-Loop) or \n",
      "   # in the notebook, what does python do? It calls the `__repr__` or \n",
      "   # \"representation\" magic method to print it out. This is how\n",
      "   # numpy arrays and matrices get nicely formatted in the REPL."
     ],
     "language": "python",
     "metadata": {},
     "outputs": [
      {
       "output_type": "stream",
       "stream": "stdout",
       "text": [
        "[u'!MOLECULE',\n",
        " u'CO',\n",
        " u'!MOLECULAR WEIGHT',\n",
        " u'28.0',\n",
        " u'!NUMBER OF ENERGY LEVELS',\n",
        " u'41',\n",
        " u'!LEVEL + ENERGIES(cm^-1) + WEIGHT + J',\n",
        " u'    1     0.000000000\\t    1.0\\t    0',\n",
        " u'    2     3.845033413\\t    3.0\\t    1',\n",
        " u'    3    11.534919938\\t    5.0\\t    2',\n",
        " u'    4    23.069512649\\t    7.0\\t    3',\n",
        " u'    5    38.448164669\\t    9.0     4',\n",
        " u'    6    57.670329083\\t   11.0     5',\n",
        " u'    7    80.735459105\\t   13.0\\t    6',\n",
        " u'    8   107.642407981\\t   15.0\\t    7',\n",
        " u'    9   138.390328288\\t   17.0\\t    8',\n",
        " u'   10   172.978074417\\t   19.0\\t    9',\n",
        " u'   11   211.404098498\\t   21.0\\t   10',\n",
        " u'   12   253.667154063\\t   23.0\\t   11',\n",
        " u'   13   299.765594677\\t   25.0\\t   12']\n"
       ]
      },
      {
       "metadata": {},
       "output_type": "pyout",
       "prompt_number": 43,
       "text": [
        "None"
       ]
      }
     ],
     "prompt_number": 43
    },
    {
     "cell_type": "markdown",
     "metadata": {},
     "source": [
      "Composition\n",
      "===========\n",
      "Instead of inheriting the attributes and methods from a super-class, the methods and attributes can be encapsulated in different objects, that are *composed* by binding them to another object. In OOP parlance, this is known as a \"has a\" relationship (\"a car has an engine and a transmission\"). People that dislike inheritance often prefer composition, because the encapsulation of attributes and methods by the object means that you don't run into conflicts if classes have the same attributes and methods (and you didn't intend to override them or envision internal conflicts). However inheritance and composition can both be more elegant solutions to different problems, so don't let jaded Java programmers tell you how to OOP!"
     ]
    },
    {
     "cell_type": "code",
     "collapsed": false,
     "input": [
      "import re\n",
      "from StringIO import StringIO\n",
      "\n",
      "###########\n",
      "# Parsers #\n",
      "###########\n",
      "\n",
      "class EnergyParser(object):\n",
      "    cols = [\"level\", \"energies\", \"weight\", \"J\"]\n",
      "    start_row = 7\n",
      "    end_row = 47\n",
      "    \n",
      "    def __init__(self, unparsed):\n",
      "        self.unparsed = unparsed\n",
      "        self.parsed = self.parse()\n",
      "    \n",
      "    def parse(self):\n",
      "        parsed = self.unparsed.split(\"\\n\")\n",
      "        parsed = parsed[self.start_row:self.end_row]\n",
      "        parsed = [l.strip() for l in parsed]\n",
      "        parsed = [re.sub('\\s+', ',', l) for l in parsed]\n",
      "        parsed = \"\\n\".join(parsed)\n",
      "        return parsed\n",
      "\n",
      "\n",
      "class CollisionRateParser(object):\n",
      "    pass\n",
      "        \n",
      "\n",
      "##############\n",
      "# Containers #\n",
      "##############\n",
      "\n",
      "class PandasContainer(object):\n",
      "    def __init__(self, text, cols):\n",
      "        self.text = text\n",
      "        self.cols = cols\n",
      "        self.data = pd.read_csv(StringIO(text), names=cols)\n",
      "\n",
      "class AstropyTablesContainer(object):\n",
      "    pass\n",
      "\n",
      "class FitsTableContainer(object):\n",
      "    pass\n",
      "\n",
      "\n",
      "#########\n",
      "# Query #\n",
      "#########\n",
      "\n",
      "# *Single* inheritance hierarchy:\n",
      "#  BaseQuery +-> CatalogQuery +-> LamdaQuery\n",
      "#            |                +-> CdmsQuery\n",
      "#            +-> ImageQuery\n",
      "class BaseQuery(object):\n",
      "    def get_data(self, **kwargs):\n",
      "        request = requests.get(self.url.format(**kwargs))\n",
      "        request.raise_for_status()\n",
      "        self.text = request.text\n",
      "        \n",
      "    def __str__(self):\n",
      "        return self.text\n",
      "\n",
      "\n",
      "class CatalogQuery(BaseQuery):\n",
      "    def parse(self):\n",
      "        self.parser = self.Parser(self.text)\n",
      "        self.parsed_text = self.parser.parsed\n",
      "        \n",
      "    def to_data(self):\n",
      "        self.container = self.Container(self.parsed_text, self.parser.cols)\n",
      "        self.data = self.container.data\n",
      "    \n",
      "    def run(self):\n",
      "        self.get_data(mol=self.mol)\n",
      "        self.parse()\n",
      "        self.to_data()\n",
      "\n",
      "\n",
      "class ImageQuery(BaseQuery):\n",
      "    pass\n",
      "\n",
      "\n",
      "class LamdaQuery(CatalogQuery):\n",
      "    url = 'http://home.strw.leidenuniv.nl/~moldata/datafiles/{mol}.dat'\n",
      "    \n",
      "    def __init__(self, mol, Parser=EnergyParser, Container=PandasContainer):\n",
      "        self.mol = mol\n",
      "        self.Parser = Parser\n",
      "        self.Container = Container\n",
      "\n",
      "\n",
      "class CdmsQuery(CatalogQuery):\n",
      "    pass\n",
      "\n",
      "\n",
      "# Let's do it!\n",
      "q = LamdaQuery('co')\n",
      "q.run()\n",
      "\n",
      "print q.data.head()\n",
      "q.data.plot(\"J\", \"energies\", kind='scatter')"
     ],
     "language": "python",
     "metadata": {},
     "outputs": [
      {
       "output_type": "stream",
       "stream": "stdout",
       "text": [
        "   level   energies  weight  J\n",
        "0      1   0.000000       1  0\n",
        "1      2   3.845033       3  1\n",
        "2      3  11.534920       5  2\n",
        "3      4  23.069513       7  3\n",
        "4      5  38.448165       9  4\n"
       ]
      },
      {
       "metadata": {},
       "output_type": "pyout",
       "prompt_number": 38,
       "text": [
        "<matplotlib.axes.AxesSubplot at 0x50b74d0>"
       ]
      },
      {
       "metadata": {},
       "output_type": "display_data",
       "png": "[encoded data removed]",
       "text": [
        "<matplotlib.figure.Figure at 0x5acc4d0>"
       ]
      }
     ],
     "prompt_number": 38
    },
    {
     "cell_type": "code",
     "collapsed": false,
     "input": [],
     "language": "python",
     "metadata": {},
     "outputs": []
    }
   ],
   "metadata": {}
  }
 ]
}